{
 "cells": [
  {
   "cell_type": "markdown",
   "metadata": {},
   "source": [
    "# Using Scalers to Improve Classifier Efficacy\n",
    "Eric Hanley"
   ]
  },
  {
   "cell_type": "markdown",
   "metadata": {},
   "source": [
    "*Explanation about why scaling is important in machine learning*"
   ]
  },
  {
   "cell_type": "markdown",
   "metadata": {},
   "source": [
    "### Import Modules"
   ]
  },
  {
   "cell_type": "code",
   "execution_count": 1,
   "metadata": {},
   "outputs": [],
   "source": [
    "import pandas as pd\n",
    "import numpy as np\n",
    "import pprint\n",
    "from sklearn.ensemble import RandomForestClassifier\n",
    "from sklearn.model_selection import train_test_split\n",
    "import matplotlib.pyplot as plt\n",
    "%matplotlib inline\n",
    "from sklearn.preprocessing import StandardScaler, MinMaxScaler, RobustScaler, Normalizer\n",
    "from scipy.stats import pearsonr\n",
    "from sklearn.metrics import accuracy_score, average_precision_score, classification_report, confusion_matrix, recall_score, f1_score"
   ]
  },
  {
   "cell_type": "markdown",
   "metadata": {},
   "source": [
    "### Read CSV and Review Data"
   ]
  },
  {
   "cell_type": "code",
   "execution_count": 2,
   "metadata": {},
   "outputs": [
    {
     "data": {
      "text/html": [
       "<div>\n",
       "<style scoped>\n",
       "    .dataframe tbody tr th:only-of-type {\n",
       "        vertical-align: middle;\n",
       "    }\n",
       "\n",
       "    .dataframe tbody tr th {\n",
       "        vertical-align: top;\n",
       "    }\n",
       "\n",
       "    .dataframe thead th {\n",
       "        text-align: right;\n",
       "    }\n",
       "</style>\n",
       "<table border=\"1\" class=\"dataframe\">\n",
       "  <thead>\n",
       "    <tr style=\"text-align: right;\">\n",
       "      <th></th>\n",
       "      <th>age</th>\n",
       "      <th>sex</th>\n",
       "      <th>cp</th>\n",
       "      <th>trtbps</th>\n",
       "      <th>chol</th>\n",
       "      <th>fbs</th>\n",
       "      <th>restecg</th>\n",
       "      <th>thalachh</th>\n",
       "      <th>exng</th>\n",
       "      <th>oldpeak</th>\n",
       "      <th>slp</th>\n",
       "      <th>caa</th>\n",
       "      <th>thall</th>\n",
       "      <th>output</th>\n",
       "    </tr>\n",
       "  </thead>\n",
       "  <tbody>\n",
       "    <tr>\n",
       "      <th>0</th>\n",
       "      <td>63</td>\n",
       "      <td>1</td>\n",
       "      <td>3</td>\n",
       "      <td>145</td>\n",
       "      <td>233</td>\n",
       "      <td>1</td>\n",
       "      <td>0</td>\n",
       "      <td>150</td>\n",
       "      <td>0</td>\n",
       "      <td>2.3</td>\n",
       "      <td>0</td>\n",
       "      <td>0</td>\n",
       "      <td>1</td>\n",
       "      <td>1</td>\n",
       "    </tr>\n",
       "    <tr>\n",
       "      <th>1</th>\n",
       "      <td>37</td>\n",
       "      <td>1</td>\n",
       "      <td>2</td>\n",
       "      <td>130</td>\n",
       "      <td>250</td>\n",
       "      <td>0</td>\n",
       "      <td>1</td>\n",
       "      <td>187</td>\n",
       "      <td>0</td>\n",
       "      <td>3.5</td>\n",
       "      <td>0</td>\n",
       "      <td>0</td>\n",
       "      <td>2</td>\n",
       "      <td>1</td>\n",
       "    </tr>\n",
       "    <tr>\n",
       "      <th>2</th>\n",
       "      <td>41</td>\n",
       "      <td>0</td>\n",
       "      <td>1</td>\n",
       "      <td>130</td>\n",
       "      <td>204</td>\n",
       "      <td>0</td>\n",
       "      <td>0</td>\n",
       "      <td>172</td>\n",
       "      <td>0</td>\n",
       "      <td>1.4</td>\n",
       "      <td>2</td>\n",
       "      <td>0</td>\n",
       "      <td>2</td>\n",
       "      <td>1</td>\n",
       "    </tr>\n",
       "    <tr>\n",
       "      <th>3</th>\n",
       "      <td>56</td>\n",
       "      <td>1</td>\n",
       "      <td>1</td>\n",
       "      <td>120</td>\n",
       "      <td>236</td>\n",
       "      <td>0</td>\n",
       "      <td>1</td>\n",
       "      <td>178</td>\n",
       "      <td>0</td>\n",
       "      <td>0.8</td>\n",
       "      <td>2</td>\n",
       "      <td>0</td>\n",
       "      <td>2</td>\n",
       "      <td>1</td>\n",
       "    </tr>\n",
       "    <tr>\n",
       "      <th>4</th>\n",
       "      <td>57</td>\n",
       "      <td>0</td>\n",
       "      <td>0</td>\n",
       "      <td>120</td>\n",
       "      <td>354</td>\n",
       "      <td>0</td>\n",
       "      <td>1</td>\n",
       "      <td>163</td>\n",
       "      <td>1</td>\n",
       "      <td>0.6</td>\n",
       "      <td>2</td>\n",
       "      <td>0</td>\n",
       "      <td>2</td>\n",
       "      <td>1</td>\n",
       "    </tr>\n",
       "    <tr>\n",
       "      <th>5</th>\n",
       "      <td>57</td>\n",
       "      <td>1</td>\n",
       "      <td>0</td>\n",
       "      <td>140</td>\n",
       "      <td>192</td>\n",
       "      <td>0</td>\n",
       "      <td>1</td>\n",
       "      <td>148</td>\n",
       "      <td>0</td>\n",
       "      <td>0.4</td>\n",
       "      <td>1</td>\n",
       "      <td>0</td>\n",
       "      <td>1</td>\n",
       "      <td>1</td>\n",
       "    </tr>\n",
       "    <tr>\n",
       "      <th>6</th>\n",
       "      <td>56</td>\n",
       "      <td>0</td>\n",
       "      <td>1</td>\n",
       "      <td>140</td>\n",
       "      <td>294</td>\n",
       "      <td>0</td>\n",
       "      <td>0</td>\n",
       "      <td>153</td>\n",
       "      <td>0</td>\n",
       "      <td>1.3</td>\n",
       "      <td>1</td>\n",
       "      <td>0</td>\n",
       "      <td>2</td>\n",
       "      <td>1</td>\n",
       "    </tr>\n",
       "    <tr>\n",
       "      <th>7</th>\n",
       "      <td>44</td>\n",
       "      <td>1</td>\n",
       "      <td>1</td>\n",
       "      <td>120</td>\n",
       "      <td>263</td>\n",
       "      <td>0</td>\n",
       "      <td>1</td>\n",
       "      <td>173</td>\n",
       "      <td>0</td>\n",
       "      <td>0.0</td>\n",
       "      <td>2</td>\n",
       "      <td>0</td>\n",
       "      <td>3</td>\n",
       "      <td>1</td>\n",
       "    </tr>\n",
       "    <tr>\n",
       "      <th>8</th>\n",
       "      <td>52</td>\n",
       "      <td>1</td>\n",
       "      <td>2</td>\n",
       "      <td>172</td>\n",
       "      <td>199</td>\n",
       "      <td>1</td>\n",
       "      <td>1</td>\n",
       "      <td>162</td>\n",
       "      <td>0</td>\n",
       "      <td>0.5</td>\n",
       "      <td>2</td>\n",
       "      <td>0</td>\n",
       "      <td>3</td>\n",
       "      <td>1</td>\n",
       "    </tr>\n",
       "    <tr>\n",
       "      <th>9</th>\n",
       "      <td>57</td>\n",
       "      <td>1</td>\n",
       "      <td>2</td>\n",
       "      <td>150</td>\n",
       "      <td>168</td>\n",
       "      <td>0</td>\n",
       "      <td>1</td>\n",
       "      <td>174</td>\n",
       "      <td>0</td>\n",
       "      <td>1.6</td>\n",
       "      <td>2</td>\n",
       "      <td>0</td>\n",
       "      <td>2</td>\n",
       "      <td>1</td>\n",
       "    </tr>\n",
       "  </tbody>\n",
       "</table>\n",
       "</div>"
      ],
      "text/plain": [
       "   age  sex  cp  trtbps  chol  fbs  restecg  thalachh  exng  oldpeak  slp  \\\n",
       "0   63    1   3     145   233    1        0       150     0      2.3    0   \n",
       "1   37    1   2     130   250    0        1       187     0      3.5    0   \n",
       "2   41    0   1     130   204    0        0       172     0      1.4    2   \n",
       "3   56    1   1     120   236    0        1       178     0      0.8    2   \n",
       "4   57    0   0     120   354    0        1       163     1      0.6    2   \n",
       "5   57    1   0     140   192    0        1       148     0      0.4    1   \n",
       "6   56    0   1     140   294    0        0       153     0      1.3    1   \n",
       "7   44    1   1     120   263    0        1       173     0      0.0    2   \n",
       "8   52    1   2     172   199    1        1       162     0      0.5    2   \n",
       "9   57    1   2     150   168    0        1       174     0      1.6    2   \n",
       "\n",
       "   caa  thall  output  \n",
       "0    0      1       1  \n",
       "1    0      2       1  \n",
       "2    0      2       1  \n",
       "3    0      2       1  \n",
       "4    0      2       1  \n",
       "5    0      1       1  \n",
       "6    0      2       1  \n",
       "7    0      3       1  \n",
       "8    0      3       1  \n",
       "9    0      2       1  "
      ]
     },
     "execution_count": 2,
     "metadata": {},
     "output_type": "execute_result"
    }
   ],
   "source": [
    "X_full = pd.read_csv('heart.csv.xls')\n",
    "y = X_full.output\n",
    "X = X_full.drop(['output'], axis=1)\n",
    "X_full.head(10)"
   ]
  },
  {
   "cell_type": "markdown",
   "metadata": {},
   "source": [
    "From this quick peak, we can see that age, trtbps, chol, thalachh, and potentially oldpeak could all be standardized to work better with our classifier."
   ]
  },
  {
   "cell_type": "markdown",
   "metadata": {},
   "source": [
    "### Now we'll define a function getMetrics that accepts a scaler (or scaler = None). If no scaler is passed to getMetrics, it simply creates what we call the \"base model\". If a scaler is passed, then the features age, trtbps, thalachh, oldpeak, and chol are scaled using the scaler specified. The function returns the feature importance of the model and the metrics of the model."
   ]
  },
  {
   "cell_type": "code",
   "execution_count": 3,
   "metadata": {},
   "outputs": [],
   "source": [
    "def getMetrics(scaler):\n",
    "    \n",
    "    #If we have passed a scaler to the function, then we'll want to apply it to the features mentioned above.\n",
    "    if scaler != None:\n",
    "        #Fit and transform the relevant features using the scaler -- returns a numpy array.\n",
    "        scaled_columns = scaler.fit_transform(X[['age', 'trtbps','thalachh','oldpeak','chol']])\n",
    "\n",
    "        #Turn numpy array into a dataframe.\n",
    "        scaledData = pd.DataFrame(scaled_columns, columns = ['age_s', 'trtbps_s','thalachh_s','oldpeak_s','chol_s'])\n",
    "\n",
    "        #Create another dataframe without the columns to be transformed.\n",
    "        X_merge = X.drop(columns = ['age','trtbps','thalachh','oldpeak','chol'])\n",
    "\n",
    "        #Join the two dataframes together.\n",
    "        X_scaled = X_merge.join(scaledData)\n",
    "    #If no scaler is passed, then we create the base model.\n",
    "    else:\n",
    "        X_scaled = X\n",
    "    \n",
    "    #Split data into training and validation sets.\n",
    "    Xtrain, Xvalid, ytrain, yvalid = train_test_split(X_scaled, y, train_size=0.8, test_size=0.2, random_state=0)\n",
    "\n",
    "    #Create RandomForestClassifier Model object.\n",
    "    base_model = RandomForestClassifier(random_state=42)\n",
    "\n",
    "    #Fit the features (X) and the target (y) to the model object using the training data sets.\n",
    "    base_model.fit(Xtrain,ytrain)\n",
    "\n",
    "    #Create predictions based off the validation data set.\n",
    "    base_preds = base_model.predict(Xvalid)\n",
    "\n",
    "    #Generate metrics to determine the efficacy of the model - accuracy, average precision, recall, and F1.\n",
    "    baseAcc = accuracy_score(base_preds,yvalid)\n",
    "    baseAvgPrec = average_precision_score(base_preds,yvalid)\n",
    "    recall = recall_score(base_preds,yvalid)\n",
    "    F = f1_score(base_preds,yvalid)\n",
    "\n",
    "    #Print out the metrics.\n",
    "    print('Accuracy: ' + str(round(baseAcc*100,2))+'%')\n",
    "    print('Avg. Precision Score: ' + str(round(baseAvgPrec*100,2))+'%')\n",
    "    print('Recall: ' + str(round(recall*100,2))+'%')\n",
    "    print('F1: ' + str(round(F*100,2))+'%')\n",
    "    \n",
    "    #Save metrics as a dictionary\n",
    "    metrics = {'labels':['Accuracy','Avg. Precision Score', 'Recall', 'F1'], 'values':[baseAcc,baseAvgPrec,recall,F]}\n",
    "    \n",
    "    #Create the DataFrame feat_imp which contains a qunatitative value of the importance of each feature when classifying.\n",
    "    feat_imp = pd.DataFrame(base_model.feature_importances_, index = Xtrain.columns, columns=['Feature Importance'])\n",
    "\n",
    "    fig, ax = plt.subplots()\n",
    "    feat_imp.plot.bar(yerr=feat_imp, ax=ax)\n",
    "    ax.set_title(\"Feature importances using MDI\")\n",
    "    ax.set_ylabel(\"Mean decrease in impurity\")\n",
    "    fig.tight_layout()\n",
    "    print()\n",
    "    print('Feature Importance:')\n",
    "    print(feat_imp['Feature Importance'])\n",
    "    \n",
    "    return feat_imp, metrics"
   ]
  },
  {
   "cell_type": "markdown",
   "metadata": {},
   "source": [
    "### Base Model"
   ]
  },
  {
   "cell_type": "markdown",
   "metadata": {},
   "source": [
    "Without changing any of the features we've identified, the base model determines feature importance/utilizes the data as is. That means it will assign more importance to features that are numerically large, when that may not be called for. Pay special attention to the features that are not scaled - age, trtbps, thalachh, oldpeak, and chol."
   ]
  },
  {
   "cell_type": "code",
   "execution_count": 4,
   "metadata": {},
   "outputs": [
    {
     "name": "stdout",
     "output_type": "stream",
     "text": [
      "Accuracy: 85.25%\n",
      "Avg. Precision Score: 83.83%\n",
      "Recall: 85.71%\n",
      "F1: 86.96%\n",
      "\n",
      "Feature Importance:\n",
      "age         0.082161\n",
      "sex         0.043652\n",
      "cp          0.123409\n",
      "trtbps      0.073234\n",
      "chol        0.078784\n",
      "fbs         0.011673\n",
      "restecg     0.017193\n",
      "thalachh    0.126226\n",
      "exng        0.062990\n",
      "oldpeak     0.122961\n",
      "slp         0.038411\n",
      "caa         0.123474\n",
      "thall       0.095832\n",
      "Name: Feature Importance, dtype: float64\n"
     ]
    },
    {
     "data": {
      "image/png": "[encoded data removed]",
      "text/plain": [
       "<Figure size 432x288 with 1 Axes>"
      ]
     },
     "metadata": {
      "needs_background": "light"
     },
     "output_type": "display_data"
    }
   ],
   "source": [
    "base_feat_imp, base_metrics = getMetrics(scaler = None)"
   ]
  },
  {
   "cell_type": "markdown",
   "metadata": {},
   "source": [
    "### MinMaxScaler"
   ]
  },
  {
   "cell_type": "markdown",
   "metadata": {},
   "source": [
    "For each value in a feature, MinMaxScaler subtracts the minimum value in the feature and then divides by the range. The range is the difference between the original maximum and original minimum. MinMaxScaler preserves the shape of the original distribution. It doesn’t meaningfully change the information embedded in the original data. MinMaxScaler doesn’t reduce the importance of outliers."
   ]
  },
  {
   "cell_type": "code",
   "execution_count": 5,
   "metadata": {},
   "outputs": [
    {
     "name": "stdout",
     "output_type": "stream",
     "text": [
      "Accuracy: 86.89%\n",
      "Avg. Precision Score: 84.41%\n",
      "Recall: 88.24%\n",
      "F1: 88.24%\n",
      "\n",
      "Feature Importance:\n",
      "sex           0.047670\n",
      "cp            0.109369\n",
      "fbs           0.009506\n",
      "restecg       0.022452\n",
      "exng          0.049608\n",
      "slp           0.043861\n",
      "caa           0.147242\n",
      "thall         0.107041\n",
      "age_s         0.086315\n",
      "trtbps_s      0.071412\n",
      "thalachh_s    0.133135\n",
      "oldpeak_s     0.093109\n",
      "chol_s        0.079279\n",
      "Name: Feature Importance, dtype: float64\n"
     ]
    },
    {
     "data": {
      "image/png": "[encoded data removed]",
      "text/plain": [
       "<Figure size 432x288 with 1 Axes>"
      ]
     },
     "metadata": {
      "needs_background": "light"
     },
     "output_type": "display_data"
    }
   ],
   "source": [
    "minMax_feat_imp, minMax_metrics = getMetrics(scaler = MinMaxScaler())"
   ]
  },
  {
   "cell_type": "markdown",
   "metadata": {},
   "source": [
    "### RobustScaler"
   ]
  },
  {
   "cell_type": "markdown",
   "metadata": {},
   "source": [
    "RobustScaler transforms the feature vector by subtracting the median and then dividing by the interquartile range (75% value — 25% value). Like MinMaxScaler, our feature with large values — normal-big — is now of similar scale to the other features. Note that RobustScaler does not scale the data into a predetermined interval like MinMaxScaler. It does not meet the strict definition of scale I introduced earlier.\n"
   ]
  },
  {
   "cell_type": "code",
   "execution_count": 6,
   "metadata": {},
   "outputs": [
    {
     "name": "stdout",
     "output_type": "stream",
     "text": [
      "Accuracy: 86.89%\n",
      "Avg. Precision Score: 84.41%\n",
      "Recall: 88.24%\n",
      "F1: 88.24%\n",
      "\n",
      "Feature Importance:\n",
      "sex           0.047670\n",
      "cp            0.109369\n",
      "fbs           0.009506\n",
      "restecg       0.022452\n",
      "exng          0.049608\n",
      "slp           0.043861\n",
      "caa           0.147242\n",
      "thall         0.107041\n",
      "age_s         0.086315\n",
      "trtbps_s      0.071412\n",
      "thalachh_s    0.133135\n",
      "oldpeak_s     0.093109\n",
      "chol_s        0.079279\n",
      "Name: Feature Importance, dtype: float64\n"
     ]
    },
    {
     "data": {
      "image/png": "[encoded data removed]",
      "text/plain": [
       "<Figure size 432x288 with 1 Axes>"
      ]
     },
     "metadata": {
      "needs_background": "light"
     },
     "output_type": "display_data"
    }
   ],
   "source": [
    "robust_feat_imp, robust_metrics = getMetrics(scaler = RobustScaler())"
   ]
  },
  {
   "cell_type": "markdown",
   "metadata": {},
   "source": [
    "### StandardScaler"
   ]
  },
  {
   "cell_type": "markdown",
   "metadata": {},
   "source": [
    "StandardScaler standardizes a feature by subtracting the mean and then scaling to unit variance. Unit variance means dividing all the values by the standard deviation. StandardScaler does not meet the strict definition of scale I introduced earlier.\n",
    "StandardScaler results in a distribution with a standard deviation equal to 1. The variance is equal to 1 also, because variance = standard deviation squared. And 1 squared = 1. StandardScaler makes the mean of the distribution 0. About 68% of the values will lie be between -1 and 1."
   ]
  },
  {
   "cell_type": "code",
   "execution_count": 7,
   "metadata": {},
   "outputs": [
    {
     "name": "stdout",
     "output_type": "stream",
     "text": [
      "Accuracy: 86.89%\n",
      "Avg. Precision Score: 84.41%\n",
      "Recall: 88.24%\n",
      "F1: 88.24%\n",
      "\n",
      "Feature Importance:\n",
      "sex           0.047670\n",
      "cp            0.109369\n",
      "fbs           0.009506\n",
      "restecg       0.022452\n",
      "exng          0.049608\n",
      "slp           0.043861\n",
      "caa           0.147242\n",
      "thall         0.107041\n",
      "age_s         0.086315\n",
      "trtbps_s      0.071412\n",
      "thalachh_s    0.133135\n",
      "oldpeak_s     0.093109\n",
      "chol_s        0.079279\n",
      "Name: Feature Importance, dtype: float64\n"
     ]
    },
    {
     "data": {
      "image/png": "[encoded data removed]",
      "text/plain": [
       "<Figure size 432x288 with 1 Axes>"
      ]
     },
     "metadata": {
      "needs_background": "light"
     },
     "output_type": "display_data"
    }
   ],
   "source": [
    "standard_feat_imp, standard_metrics = getMetrics(scaler = StandardScaler())"
   ]
  },
  {
   "cell_type": "markdown",
   "metadata": {},
   "source": [
    "As you can see, scaling our features significantly changes how the model attaches importance to different features. Base feature importance is very different from standardardized feature importance and normalized feature importance. Standard and MinMax are identical (as would be Robust)."
   ]
  },
  {
   "cell_type": "markdown",
   "metadata": {},
   "source": [
    "# Metric Comparison"
   ]
  },
  {
   "cell_type": "code",
   "execution_count": 8,
   "metadata": {},
   "outputs": [
    {
     "data": {
      "image/png": "[encoded data removed]",
      "text/plain": [
       "<Figure size 432x288 with 1 Axes>"
      ]
     },
     "metadata": {
      "needs_background": "light"
     },
     "output_type": "display_data"
    }
   ],
   "source": [
    "# set width of bars\n",
    "barWidth = 0.25\n",
    " \n",
    "# set heights of bars\n",
    "bars1 = base_metrics['values']\n",
    "bars2 = standard_metrics['values']\n",
    " \n",
    "# Set position of bar on X axis\n",
    "r1 = np.arange(len(bars1))\n",
    "r2 = [x + barWidth for x in r1]\n",
    " \n",
    "# Make the plot\n",
    "plt.bar(r1, bars1, color='r', width=barWidth, edgecolor='white', label='Base')\n",
    "plt.bar(r2, bars2, color='b', width=barWidth, edgecolor='white', label='Standardized')\n",
    " \n",
    "# Add xticks on the middle of the group bars\n",
    "plt.xticks([r + barWidth for r in range(len(bars1))], labels = base_metrics['labels'])\n",
    "plt.ylabel('Metric %')\n",
    " \n",
    "# Create legend & Show graphic\n",
    "plt.legend(loc = 'lower right')\n",
    "plt.show()"
   ]
  },
  {
   "cell_type": "markdown",
   "metadata": {},
   "source": [
    "Again, we can see that the standardized features result in a more accurate and precise model with better recall compared to the base model."
   ]
  },
  {
   "cell_type": "code",
   "execution_count": 12,
   "metadata": {},
   "outputs": [
    {
     "data": {
      "image/png": "[encoded data removed]",
      "text/plain": [
       "<Figure size 432x288 with 1 Axes>"
      ]
     },
     "metadata": {
      "needs_background": "light"
     },
     "output_type": "display_data"
    },
    {
     "data": {
      "image/png": "[encoded data removed]",
      "text/plain": [
       "<Figure size 432x288 with 1 Axes>"
      ]
     },
     "metadata": {
      "needs_background": "light"
     },
     "output_type": "display_data"
    },
    {
     "data": {
      "image/png": "[encoded data removed]",
      "text/plain": [
       "<Figure size 432x288 with 1 Axes>"
      ]
     },
     "metadata": {
      "needs_background": "light"
     },
     "output_type": "display_data"
    },
    {
     "data": {
      "image/png": "[encoded data removed]",
      "text/plain": [
       "<Figure size 432x288 with 1 Axes>"
      ]
     },
     "metadata": {
      "needs_background": "light"
     },
     "output_type": "display_data"
    }
   ],
   "source": [
    "plt.hist(X['age'], edgecolor = 'black')\n",
    "plt.xlabel('Age')\n",
    "plt.ylabel('Count')\n",
    "plt.show()\n",
    "\n",
    "minMax_age = MinMaxScaler().fit_transform(X[['age']])\n",
    "minMax_age = pd.DataFrame(minMax_age, columns = ['s_age'])\n",
    "\n",
    "plt.hist(minMax_age['s_age'], edgecolor = 'black')\n",
    "plt.xlabel('MinMax Scaled Age')\n",
    "plt.ylabel('Count')\n",
    "plt.show()\n",
    "\n",
    "robust_age = RobustScaler().fit_transform(X[['age']])\n",
    "robust_age = pd.DataFrame(robust_age, columns = ['s_age'])\n",
    "\n",
    "plt.hist(robust_age['s_age'], edgecolor = 'black')\n",
    "plt.xlabel('Robust Scaled Age')\n",
    "plt.ylabel('Count')\n",
    "plt.show()\n",
    "\n",
    "standardized_age = StandardScaler().fit_transform(X[['age']])\n",
    "standardized_age = pd.DataFrame(standardized_age, columns = ['s_age'])\n",
    "\n",
    "plt.hist(standardized_age['s_age'], edgecolor = 'black')\n",
    "plt.xlabel('Standardized Age')\n",
    "plt.ylabel('Count')\n",
    "plt.show()"
   ]
  },
  {
   "cell_type": "code",
   "execution_count": null,
   "metadata": {},
   "outputs": [],
   "source": []
  }
 ],
 "metadata": {
  "kernelspec": {
   "display_name": "Python 3",
   "language": "python",
   "name": "python3"
  },
  "language_info": {
   "codemirror_mode": {
    "name": "ipython",
    "version": 3
   },
   "file_extension": ".py",
   "mimetype": "text/x-python",
   "name": "python",
   "nbconvert_exporter": "python",
   "pygments_lexer": "ipython3",
   "version": "3.8.8"
  }
 },
 "nbformat": 4,
 "nbformat_minor": 2
}
